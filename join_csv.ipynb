{
  "nbformat": 4,
  "nbformat_minor": 0,
  "metadata": {
    "anaconda-cloud": {},
    "kernelspec": {
      "display_name": "Python 3",
      "language": "python",
      "name": "python3"
    },
    "language_info": {
      "codemirror_mode": {
        "name": "ipython",
        "version": 3
      },
      "file_extension": ".py",
      "mimetype": "text/x-python",
      "name": "python",
      "nbconvert_exporter": "python",
      "pygments_lexer": "ipython3",
      "version": "3.7.6"
    },
    "colab": {
      "name": "join_csv.ipynb",
      "provenance": [],
      "collapsed_sections": []
    }
  },
  "cells": [
    {
      "cell_type": "code",
      "metadata": {
        "id": "2jlvqhdjJj1Y",
        "colab_type": "code",
        "colab": {}
      },
      "source": [
        "import pandas as pd"
      ],
      "execution_count": 0,
      "outputs": []
    },
    {
      "cell_type": "code",
      "metadata": {
        "id": "cYAtazxZJj1m",
        "colab_type": "code",
        "outputId": "db1d6d3e-5438-421f-fa1a-7b21c7810d37",
        "colab": {
          "base_uri": "https://localhost:8080/",
          "height": 143
        }
      },
      "source": [
        "# insert data directly using StringIO to generate a CSV-like for pandas\n",
        "\n",
        "from io import StringIO\n",
        "\n",
        "data = StringIO(\"\"\"\n",
        "Text,Value\n",
        "aaa,123\n",
        "bbb,456\n",
        "ccc,789\n",
        "\"\"\")\n",
        "\n",
        "data2 = StringIO(\"\"\"\n",
        "Text,Value2\n",
        "bbb,Milano\n",
        "ccc,Roma\n",
        "ddd,Bologna\n",
        "eee,Venezia\n",
        "\"\"\")\n",
        "\n",
        "\n",
        "df1 = pd.read_csv(data)\n",
        "df2 = pd.read_csv(data2)\n",
        "\n",
        "df1.head(5)"
      ],
      "execution_count": 0,
      "outputs": [
        {
          "output_type": "execute_result",
          "data": {
            "text/html": [
              "<div>\n",
              "<style scoped>\n",
              "    .dataframe tbody tr th:only-of-type {\n",
              "        vertical-align: middle;\n",
              "    }\n",
              "\n",
              "    .dataframe tbody tr th {\n",
              "        vertical-align: top;\n",
              "    }\n",
              "\n",
              "    .dataframe thead th {\n",
              "        text-align: right;\n",
              "    }\n",
              "</style>\n",
              "<table border=\"1\" class=\"dataframe\">\n",
              "  <thead>\n",
              "    <tr style=\"text-align: right;\">\n",
              "      <th></th>\n",
              "      <th>Text</th>\n",
              "      <th>Value</th>\n",
              "    </tr>\n",
              "  </thead>\n",
              "  <tbody>\n",
              "    <tr>\n",
              "      <th>0</th>\n",
              "      <td>aaa</td>\n",
              "      <td>123</td>\n",
              "    </tr>\n",
              "    <tr>\n",
              "      <th>1</th>\n",
              "      <td>bbb</td>\n",
              "      <td>456</td>\n",
              "    </tr>\n",
              "    <tr>\n",
              "      <th>2</th>\n",
              "      <td>ccc</td>\n",
              "      <td>789</td>\n",
              "    </tr>\n",
              "  </tbody>\n",
              "</table>\n",
              "</div>"
            ],
            "text/plain": [
              "  Text  Value\n",
              "0  aaa    123\n",
              "1  bbb    456\n",
              "2  ccc    789"
            ]
          },
          "metadata": {
            "tags": []
          },
          "execution_count": 25
        }
      ]
    },
    {
      "cell_type": "code",
      "metadata": {
        "id": "Rvr5zuKWJj12",
        "colab_type": "code",
        "outputId": "c0f1c538-ec2f-4abc-cac0-e509bceee72f",
        "colab": {
          "base_uri": "https://localhost:8080/",
          "height": 34
        }
      },
      "source": [
        "# recreate the index a column \"Text\" and name it as \"My_Index\"\n",
        "\n",
        "df1.index = df1['Text']\n",
        "df1.index.name = \"My_Index\"\n",
        "df1.index"
      ],
      "execution_count": 0,
      "outputs": [
        {
          "output_type": "execute_result",
          "data": {
            "text/plain": [
              "Index(['aaa', 'bbb', 'ccc'], dtype='object', name='My_Index')"
            ]
          },
          "metadata": {
            "tags": []
          },
          "execution_count": 28
        }
      ]
    },
    {
      "cell_type": "code",
      "metadata": {
        "id": "7xSUvpyyJj2A",
        "colab_type": "code",
        "outputId": "3cff6482-0db1-4a66-ea76-6ca9b600dfab",
        "colab": {
          "base_uri": "https://localhost:8080/",
          "height": 175
        }
      },
      "source": [
        "# Verify that the index is correct\n",
        "\n",
        "df1"
      ],
      "execution_count": 0,
      "outputs": [
        {
          "output_type": "execute_result",
          "data": {
            "text/html": [
              "<div>\n",
              "<style scoped>\n",
              "    .dataframe tbody tr th:only-of-type {\n",
              "        vertical-align: middle;\n",
              "    }\n",
              "\n",
              "    .dataframe tbody tr th {\n",
              "        vertical-align: top;\n",
              "    }\n",
              "\n",
              "    .dataframe thead th {\n",
              "        text-align: right;\n",
              "    }\n",
              "</style>\n",
              "<table border=\"1\" class=\"dataframe\">\n",
              "  <thead>\n",
              "    <tr style=\"text-align: right;\">\n",
              "      <th></th>\n",
              "      <th>Text</th>\n",
              "      <th>Value</th>\n",
              "    </tr>\n",
              "    <tr>\n",
              "      <th>My_Index</th>\n",
              "      <th></th>\n",
              "      <th></th>\n",
              "    </tr>\n",
              "  </thead>\n",
              "  <tbody>\n",
              "    <tr>\n",
              "      <th>aaa</th>\n",
              "      <td>aaa</td>\n",
              "      <td>123</td>\n",
              "    </tr>\n",
              "    <tr>\n",
              "      <th>bbb</th>\n",
              "      <td>bbb</td>\n",
              "      <td>456</td>\n",
              "    </tr>\n",
              "    <tr>\n",
              "      <th>ccc</th>\n",
              "      <td>ccc</td>\n",
              "      <td>789</td>\n",
              "    </tr>\n",
              "  </tbody>\n",
              "</table>\n",
              "</div>"
            ],
            "text/plain": [
              "         Text  Value\n",
              "My_Index            \n",
              "aaa       aaa    123\n",
              "bbb       bbb    456\n",
              "ccc       ccc    789"
            ]
          },
          "metadata": {
            "tags": []
          },
          "execution_count": 29
        }
      ]
    },
    {
      "cell_type": "code",
      "metadata": {
        "id": "_XhMJJnOJj2J",
        "colab_type": "code",
        "outputId": "da30056c-dd93-4452-ab7e-eb30dd55b718",
        "colab": {
          "base_uri": "https://localhost:8080/",
          "height": 34
        }
      },
      "source": [
        "# recreate the index a column \"Text\" and name it as \"My_Index\"\n",
        "\n",
        "df2.index = df2['Text']\n",
        "df2.index.name = \"My_Index2\"\n",
        "df2.index"
      ],
      "execution_count": 0,
      "outputs": [
        {
          "output_type": "execute_result",
          "data": {
            "text/plain": [
              "Index(['bbb', 'ccc', 'ddd', 'eee'], dtype='object', name='My_Index2')"
            ]
          },
          "metadata": {
            "tags": []
          },
          "execution_count": 30
        }
      ]
    },
    {
      "cell_type": "code",
      "metadata": {
        "id": "t1cFsqIfJj2T",
        "colab_type": "code",
        "outputId": "4a3de9a7-2918-4a1f-dc74-c85effa30944",
        "colab": {
          "base_uri": "https://localhost:8080/",
          "height": 175
        }
      },
      "source": [
        "# (Default Left) Join df1 <- df2 and append a suffix to df2 column name if it overlap with df1 ( ex: Text )\n",
        "\n",
        "joined_df1 = df1.join(df2, rsuffix=\"-df2\")\n",
        "joined_df1"
      ],
      "execution_count": 0,
      "outputs": [
        {
          "output_type": "execute_result",
          "data": {
            "text/html": [
              "<div>\n",
              "<style scoped>\n",
              "    .dataframe tbody tr th:only-of-type {\n",
              "        vertical-align: middle;\n",
              "    }\n",
              "\n",
              "    .dataframe tbody tr th {\n",
              "        vertical-align: top;\n",
              "    }\n",
              "\n",
              "    .dataframe thead th {\n",
              "        text-align: right;\n",
              "    }\n",
              "</style>\n",
              "<table border=\"1\" class=\"dataframe\">\n",
              "  <thead>\n",
              "    <tr style=\"text-align: right;\">\n",
              "      <th></th>\n",
              "      <th>Text</th>\n",
              "      <th>Value</th>\n",
              "      <th>Text-df2</th>\n",
              "      <th>Value2</th>\n",
              "    </tr>\n",
              "    <tr>\n",
              "      <th>My_Index</th>\n",
              "      <th></th>\n",
              "      <th></th>\n",
              "      <th></th>\n",
              "      <th></th>\n",
              "    </tr>\n",
              "  </thead>\n",
              "  <tbody>\n",
              "    <tr>\n",
              "      <th>aaa</th>\n",
              "      <td>aaa</td>\n",
              "      <td>123</td>\n",
              "      <td>NaN</td>\n",
              "      <td>NaN</td>\n",
              "    </tr>\n",
              "    <tr>\n",
              "      <th>bbb</th>\n",
              "      <td>bbb</td>\n",
              "      <td>456</td>\n",
              "      <td>bbb</td>\n",
              "      <td>Milano</td>\n",
              "    </tr>\n",
              "    <tr>\n",
              "      <th>ccc</th>\n",
              "      <td>ccc</td>\n",
              "      <td>789</td>\n",
              "      <td>ccc</td>\n",
              "      <td>Roma</td>\n",
              "    </tr>\n",
              "  </tbody>\n",
              "</table>\n",
              "</div>"
            ],
            "text/plain": [
              "         Text  Value Text-df2  Value2\n",
              "My_Index                             \n",
              "aaa       aaa    123      NaN     NaN\n",
              "bbb       bbb    456      bbb  Milano\n",
              "ccc       ccc    789      ccc    Roma"
            ]
          },
          "metadata": {
            "tags": []
          },
          "execution_count": 37
        }
      ]
    },
    {
      "cell_type": "code",
      "metadata": {
        "id": "IdAQvwtqREAh",
        "colab_type": "code",
        "outputId": "e33087a1-48b6-45a9-f8d5-14452fd3b09f",
        "colab": {
          "base_uri": "https://localhost:8080/",
          "height": 206
        }
      },
      "source": [
        "# (Default Left) Join df2 <- df1 and append a suffix to df1 column name if it overlap with df1 ( ex: Text )\n",
        "\n",
        "joined_df2 = df2.join(df1, rsuffix=\"-df1\")\n",
        "joined_df2"
      ],
      "execution_count": 0,
      "outputs": [
        {
          "output_type": "execute_result",
          "data": {
            "text/html": [
              "<div>\n",
              "<style scoped>\n",
              "    .dataframe tbody tr th:only-of-type {\n",
              "        vertical-align: middle;\n",
              "    }\n",
              "\n",
              "    .dataframe tbody tr th {\n",
              "        vertical-align: top;\n",
              "    }\n",
              "\n",
              "    .dataframe thead th {\n",
              "        text-align: right;\n",
              "    }\n",
              "</style>\n",
              "<table border=\"1\" class=\"dataframe\">\n",
              "  <thead>\n",
              "    <tr style=\"text-align: right;\">\n",
              "      <th></th>\n",
              "      <th>Text</th>\n",
              "      <th>Value2</th>\n",
              "      <th>Text-df1</th>\n",
              "      <th>Value</th>\n",
              "    </tr>\n",
              "    <tr>\n",
              "      <th>My_Index2</th>\n",
              "      <th></th>\n",
              "      <th></th>\n",
              "      <th></th>\n",
              "      <th></th>\n",
              "    </tr>\n",
              "  </thead>\n",
              "  <tbody>\n",
              "    <tr>\n",
              "      <th>bbb</th>\n",
              "      <td>bbb</td>\n",
              "      <td>Milano</td>\n",
              "      <td>bbb</td>\n",
              "      <td>456.0</td>\n",
              "    </tr>\n",
              "    <tr>\n",
              "      <th>ccc</th>\n",
              "      <td>ccc</td>\n",
              "      <td>Roma</td>\n",
              "      <td>ccc</td>\n",
              "      <td>789.0</td>\n",
              "    </tr>\n",
              "    <tr>\n",
              "      <th>ddd</th>\n",
              "      <td>ddd</td>\n",
              "      <td>Bologna</td>\n",
              "      <td>NaN</td>\n",
              "      <td>NaN</td>\n",
              "    </tr>\n",
              "    <tr>\n",
              "      <th>eee</th>\n",
              "      <td>eee</td>\n",
              "      <td>Venezia</td>\n",
              "      <td>NaN</td>\n",
              "      <td>NaN</td>\n",
              "    </tr>\n",
              "  </tbody>\n",
              "</table>\n",
              "</div>"
            ],
            "text/plain": [
              "          Text   Value2 Text-df1  Value\n",
              "My_Index2                              \n",
              "bbb        bbb   Milano      bbb  456.0\n",
              "ccc        ccc     Roma      ccc  789.0\n",
              "ddd        ddd  Bologna      NaN    NaN\n",
              "eee        eee  Venezia      NaN    NaN"
            ]
          },
          "metadata": {
            "tags": []
          },
          "execution_count": 41
        }
      ]
    },
    {
      "cell_type": "code",
      "metadata": {
        "id": "TiK2XSzhUcqX",
        "colab_type": "code",
        "outputId": "22e23b37-5ae6-4c22-ae9c-377a5e05d306",
        "colab": {
          "base_uri": "https://localhost:8080/",
          "height": 175
        }
      },
      "source": [
        "# Right Join df2 <- df1 \n",
        "\n",
        "joined_df2 = df2.join(df1, rsuffix=\"-df1\", how=\"right\")\n",
        "joined_df2"
      ],
      "execution_count": 0,
      "outputs": [
        {
          "output_type": "execute_result",
          "data": {
            "text/html": [
              "<div>\n",
              "<style scoped>\n",
              "    .dataframe tbody tr th:only-of-type {\n",
              "        vertical-align: middle;\n",
              "    }\n",
              "\n",
              "    .dataframe tbody tr th {\n",
              "        vertical-align: top;\n",
              "    }\n",
              "\n",
              "    .dataframe thead th {\n",
              "        text-align: right;\n",
              "    }\n",
              "</style>\n",
              "<table border=\"1\" class=\"dataframe\">\n",
              "  <thead>\n",
              "    <tr style=\"text-align: right;\">\n",
              "      <th></th>\n",
              "      <th>Text</th>\n",
              "      <th>Value2</th>\n",
              "      <th>Text-df1</th>\n",
              "      <th>Value</th>\n",
              "    </tr>\n",
              "    <tr>\n",
              "      <th>My_Index</th>\n",
              "      <th></th>\n",
              "      <th></th>\n",
              "      <th></th>\n",
              "      <th></th>\n",
              "    </tr>\n",
              "  </thead>\n",
              "  <tbody>\n",
              "    <tr>\n",
              "      <th>aaa</th>\n",
              "      <td>NaN</td>\n",
              "      <td>NaN</td>\n",
              "      <td>aaa</td>\n",
              "      <td>123</td>\n",
              "    </tr>\n",
              "    <tr>\n",
              "      <th>bbb</th>\n",
              "      <td>bbb</td>\n",
              "      <td>Milano</td>\n",
              "      <td>bbb</td>\n",
              "      <td>456</td>\n",
              "    </tr>\n",
              "    <tr>\n",
              "      <th>ccc</th>\n",
              "      <td>ccc</td>\n",
              "      <td>Roma</td>\n",
              "      <td>ccc</td>\n",
              "      <td>789</td>\n",
              "    </tr>\n",
              "  </tbody>\n",
              "</table>\n",
              "</div>"
            ],
            "text/plain": [
              "         Text  Value2 Text-df1  Value\n",
              "My_Index                             \n",
              "aaa       NaN     NaN      aaa    123\n",
              "bbb       bbb  Milano      bbb    456\n",
              "ccc       ccc    Roma      ccc    789"
            ]
          },
          "metadata": {
            "tags": []
          },
          "execution_count": 42
        }
      ]
    }
  ]
}